{
 "cells": [
  {
   "cell_type": "markdown",
   "metadata": {
    "id": "i99QeJtlr921"
   },
   "source": [
    "# Libraries"
   ]
  },
  {
   "cell_type": "code",
   "execution_count": 5,
   "metadata": {
    "ExecuteTime": {
     "end_time": "2021-01-19T11:54:47.384787Z",
     "start_time": "2021-01-19T11:54:47.377853Z"
    },
    "id": "9ObsKMRPr925"
   },
   "outputs": [],
   "source": [
    "import re"
   ]
  },
  {
   "cell_type": "markdown",
   "metadata": {
    "id": "BU1QbHPzr926"
   },
   "source": [
    "# Load article\n",
    "\n",
    "Download the text from [**here**](https://drive.google.com/file/d/1PEUMaDaPye5pxlA-SZTsnZ4k7WSzdLLe/view?usp=sharing) and load it into python using the following code snippet."
   ]
  },
  {
   "cell_type": "code",
   "execution_count": 6,
   "metadata": {
    "ExecuteTime": {
     "end_time": "2021-01-19T11:54:47.865975Z",
     "start_time": "2021-01-19T11:54:47.861338Z"
    },
    "colab": {
     "base_uri": "https://localhost:8080/",
     "height": 218
    },
    "id": "0obFMxx3r927",
    "outputId": "60f352a9-95b0-4698-bdeb-eda5d062ef78"
   },
   "outputs": [],
   "source": [
    "# Load lines into list\n",
    "filename = '/Users/kitanolowofoyeku/Downloads/Article.txt'\n",
    "with open(filename, encoding='utf-8') as f:\n",
    "    lines = f.readlines()"
   ]
  },
  {
   "cell_type": "markdown",
   "metadata": {
    "id": "CIFx3Z_6r927"
   },
   "source": [
    "# Tasks"
   ]
  },
  {
   "cell_type": "markdown",
   "metadata": {
    "id": "Kb0TRWNgr928"
   },
   "source": [
    "### Print the first 20 lines of article"
   ]
  },
  {
   "cell_type": "code",
   "execution_count": 7,
   "metadata": {
    "ExecuteTime": {
     "end_time": "2021-01-19T11:54:48.561485Z",
     "start_time": "2021-01-19T11:54:48.540029Z"
    },
    "id": "cukbetzAr928"
   },
   "outputs": [
    {
     "data": {
      "text/plain": [
       "['How To Start When You’ve Procrastinated On Your Goals For Too Long\\n',\n",
       " '\\n',\n",
       " 'As you are reading this, you probably have a goal on your own, that you’ve pushed, postponed, procrastinated on, and other words that start with P, for days, weeks, months, or even years.\\n',\n",
       " '\\n',\n",
       " 'Not only that, but you’ve reached the point where even the thought of the goal, brings the feeling of having butterflies in your stomach. Demon butterflies.\\n',\n",
       " '\\n',\n",
       " 'Hopefully, today is the day you will break the chain as well.\\n',\n",
       " '\\n',\n",
       " 'Let me help you with that.\\n',\n",
       " '\\n',\n",
       " 'First, the explanation.\\n',\n",
       " 'In the beginning, when we set the goal, we feel usually motivated, for about a day. As each additional day passes, the resistance starts to grow.\\n',\n",
       " '\\n',\n",
       " 'As more time passes by, we feel more overwhelmed, especially if we have attempted to start several times, and failed. It stacks up, but in a wrong direction.\\n',\n",
       " '\\n',\n",
       " 'The biggest problem in this scenario is that we think of the sheer size of the goal, or to be more accurate, the list of the activities we need to do, and how much time it will take us to do them all.\\n',\n",
       " '\\n',\n",
       " 'We think about the big picture.\\n',\n",
       " '\\n',\n",
       " 'There is nothing wrong with the big picture, on the contrary, we need it, but in the beginning, when it’s the planning phase.\\n']"
      ]
     },
     "execution_count": 7,
     "metadata": {},
     "output_type": "execute_result"
    }
   ],
   "source": [
    "lines[:20]"
   ]
  },
  {
   "cell_type": "markdown",
   "metadata": {
    "id": "wxeLz4Dlr928"
   },
   "source": [
    "## Print out every line from the file that..."
   ]
  },
  {
   "cell_type": "markdown",
   "metadata": {
    "id": "Xcd0XSEVr929"
   },
   "source": [
    "... that has 'q'"
   ]
  },
  {
   "cell_type": "code",
   "execution_count": 8,
   "metadata": {
    "ExecuteTime": {
     "end_time": "2021-01-19T11:54:49.320817Z",
     "start_time": "2021-01-19T11:54:49.314344Z"
    },
    "id": "cLWT75TZr92-"
   },
   "outputs": [
    {
     "name": "stdout",
     "output_type": "stream",
     "text": [
      "If necessary, sacrifice the quality, and the quantity, for the sake of consistency.\n",
      "\n"
     ]
    }
   ],
   "source": [
    "for line in lines:\n",
    "    if re.findall('q', line):\n",
    "        print(line)"
   ]
  },
  {
   "cell_type": "markdown",
   "metadata": {
    "id": "CZ66QyLJr92-"
   },
   "source": [
    "... that starts with 'H'"
   ]
  },
  {
   "cell_type": "code",
   "execution_count": 9,
   "metadata": {
    "ExecuteTime": {
     "end_time": "2021-01-19T11:54:49.886138Z",
     "start_time": "2021-01-19T11:54:49.880818Z"
    },
    "id": "78AU-B6fr92_"
   },
   "outputs": [
    {
     "name": "stdout",
     "output_type": "stream",
     "text": [
      "How To Start When You’ve Procrastinated On Your Goals For Too Long\n",
      "\n",
      "Hopefully, today is the day you will break the chain as well.\n",
      "\n"
     ]
    }
   ],
   "source": [
    "for line in lines:\n",
    "    if re.findall('^H', line):\n",
    "        print(line)"
   ]
  },
  {
   "cell_type": "markdown",
   "metadata": {
    "id": "TcxpMTiQr92_"
   },
   "source": [
    "... that has 'wh'"
   ]
  },
  {
   "cell_type": "code",
   "execution_count": 10,
   "metadata": {
    "ExecuteTime": {
     "end_time": "2021-01-19T11:54:50.993488Z",
     "start_time": "2021-01-19T11:54:50.987137Z"
    },
    "id": "NTWN5THWr92_"
   },
   "outputs": [
    {
     "name": "stdout",
     "output_type": "stream",
     "text": [
      "Not only that, but you’ve reached the point where even the thought of the goal, brings the feeling of having butterflies in your stomach. Demon butterflies.\n",
      "\n",
      "In the beginning, when we set the goal, we feel usually motivated, for about a day. As each additional day passes, the resistance starts to grow.\n",
      "\n",
      "As more time passes by, we feel more overwhelmed, especially if we have attempted to start several times, and failed. It stacks up, but in a wrong direction.\n",
      "\n",
      "There is nothing wrong with the big picture, on the contrary, we need it, but in the beginning, when it’s the planning phase.\n",
      "\n",
      "To be specific, just one day ahead of you. Or, as I like to call it “A 24 Hour Life”(basically what smarter people before me said but rephrased with a cooler name, fancy, I know).\n",
      "\n",
      "That’s what you should do. Don’t think about the science or that you need 66 days to establish a habit, it will just overwhelm you additionally, which you don’t need.\n",
      "\n",
      "Look back at the previous period, and try to pinpoint the main reasons on why you procrastinated (be honest with yourself).\n",
      "\n",
      "Stop dragging the luggage of your past (in)actions. That’s the thing with us people; we like to beat ourselves, which additionally prevents us from taking actions.\n",
      "\n",
      "Remember, think just 24 hours ahead (or 18/16 depending on how much you sleep) now when I think about it, the “24-hour life” is starting to lose its meaning, but it sounds cooler than “16 Hour Life.”)\n",
      "\n",
      "Anyways. The moment you forgive yourself, you will feel relieved, and slowly start to regain that original motivation, or motivation 2.0 whatever you want to call it.\n",
      "\n",
      "Even if you still want to pursue the same goal, know that it often happens that we don’t stop and think whether or not what we are trying to achieve, actually still makes sense for us (similar to being in an unhealthy relationship just because you’ve invested too much time).\n",
      "\n",
      "In those 16 hours, your sole focus (when it comes to your goal), should beonly two things:\n",
      "\n",
      "Things you have to DO to achieve your goal (what are your most important activities that will bring most results?)\n",
      "\n",
      "Like slapping a muffin out of your hand (if you want to lose weight), or learning five new words in Spanish a couple of random examples here, but you get what I mean.\n",
      "\n",
      "Just remember every once in a while to make a pause, and evaluate your path and plan, just to make sure you are still on the right track.\n"
     ]
    }
   ],
   "source": [
    "for line in lines:\n",
    "    if re.findall('wh', line):\n",
    "        print(line)"
   ]
  },
  {
   "cell_type": "markdown",
   "metadata": {
    "id": "jRFhwgAgr92_"
   },
   "source": [
    "... that has an 'q' or a 'Q'"
   ]
  },
  {
   "cell_type": "code",
   "execution_count": 11,
   "metadata": {
    "ExecuteTime": {
     "end_time": "2021-01-19T11:54:51.698966Z",
     "start_time": "2021-01-19T11:54:51.693617Z"
    },
    "id": "99Kf0_Uir93A"
   },
   "outputs": [
    {
     "name": "stdout",
     "output_type": "stream",
     "text": [
      "If necessary, sacrifice the quality, and the quantity, for the sake of consistency.\n",
      "\n",
      "If necessary, sacrifice the Quality, and the Quantity, for the sake of CONSISTENCY.\n",
      "\n"
     ]
    }
   ],
   "source": [
    "for line in lines:\n",
    "    if re.findall('[qQ]', line):\n",
    "        print(line)"
   ]
  },
  {
   "cell_type": "markdown",
   "metadata": {
    "id": "Yo7C5gq9r93A"
   },
   "source": [
    "... that has a '*' (star) in it"
   ]
  },
  {
   "cell_type": "code",
   "execution_count": 12,
   "metadata": {
    "ExecuteTime": {
     "end_time": "2021-01-19T11:54:52.352791Z",
     "start_time": "2021-01-19T11:54:52.344849Z"
    },
    "id": "G4ayMZMir93A"
   },
   "outputs": [
    {
     "name": "stdout",
     "output_type": "stream",
     "text": [
      "*******************************\n",
      "\n",
      "Even though it’s simple, it’s not easy *.\n",
      "\n"
     ]
    }
   ],
   "source": [
    "for line in lines:\n",
    "    if re.findall('\\*', line):\n",
    "        print(line)"
   ]
  },
  {
   "cell_type": "markdown",
   "metadata": {
    "id": "2WNp-efBr93A"
   },
   "source": [
    "... that starts with an 'T' or an 't'"
   ]
  },
  {
   "cell_type": "code",
   "execution_count": 13,
   "metadata": {
    "ExecuteTime": {
     "end_time": "2021-01-19T11:54:53.126582Z",
     "start_time": "2021-01-19T11:54:53.121125Z"
    },
    "id": "CmDqxMkGr93B"
   },
   "outputs": [
    {
     "name": "stdout",
     "output_type": "stream",
     "text": [
      "The biggest problem in this scenario is that we think of the sheer size of the goal, or to be more accurate, the list of the activities we need to do, and how much time it will take us to do them all.\n",
      "\n",
      "There is nothing wrong with the big picture, on the contrary, we need it, but in the beginning, when it’s the planning phase.\n",
      "\n",
      "To be specific, just one day ahead of you. Or, as I like to call it “A 24 Hour Life”(basically what smarter people before me said but rephrased with a cooler name, fancy, I know).\n",
      "\n",
      "That’s what you should do. Don’t think about the science or that you need 66 days to establish a habit, it will just overwhelm you additionally, which you don’t need.\n",
      "\n",
      "These reasons are usually internal and external.\n",
      "\n",
      "This is more theoretical, fluffy advice, but still, makes sense.\n",
      "\n",
      "This is your one shot, either drop the goal altogether or leave all the excuses behind.\n",
      "\n",
      "Think about your biggest goal, and see if you still want to pursue it.\n",
      "\n",
      "Things you have to DO to achieve your goal (what are your most important activities that will bring most results?)\n",
      "\n",
      "Things you have to LEARN to execute the previously defined activities\n",
      "\n",
      "To make sure that history doesn’t repeat itself, choose just one thing you will do today no matter how minor the activity is.\n",
      "\n"
     ]
    }
   ],
   "source": [
    "for line in lines:\n",
    "    if re.findall('^[Tt]', line):\n",
    "        print(line)"
   ]
  },
  {
   "cell_type": "markdown",
   "metadata": {
    "id": "O2v9NRH8r93B"
   },
   "source": [
    "... that starts with number"
   ]
  },
  {
   "cell_type": "code",
   "execution_count": 14,
   "metadata": {
    "ExecuteTime": {
     "end_time": "2021-01-19T11:54:54.210452Z",
     "start_time": "2021-01-19T11:54:54.204691Z"
    },
    "id": "4Jngu1jUr93B"
   },
   "outputs": [
    {
     "name": "stdout",
     "output_type": "stream",
     "text": [
      "1. Extract The Lessons\n",
      "\n",
      "2. Stop Beating On Yourself\n",
      "\n",
      "3. Re-evaluate Your Direction\n",
      "\n",
      "4. Make A New Plan\n",
      "\n",
      "5. … Act\n",
      "\n"
     ]
    }
   ],
   "source": [
    "for line in lines:\n",
    "    if re.findall('^\\d', line):\n",
    "        print(line)"
   ]
  },
  {
   "cell_type": "markdown",
   "metadata": {
    "id": "ZlP-nmstr93B"
   },
   "source": [
    "... that has both 'a' and 'e'  and 'i' and 'o' and 'u' in it"
   ]
  },
  {
   "cell_type": "code",
   "execution_count": 15,
   "metadata": {
    "ExecuteTime": {
     "end_time": "2021-01-19T11:54:55.025410Z",
     "start_time": "2021-01-19T11:54:55.014242Z"
    },
    "id": "9wLsL8wyr93B"
   },
   "outputs": [
    {
     "name": "stdout",
     "output_type": "stream",
     "text": [
      "How To Start When You’ve Procrastinated On Your Goals For Too Long\n",
      "\n",
      "As you are reading this, you probably have a goal on your own, that you’ve pushed, postponed, procrastinated on, and other words that start with P, for days, weeks, months, or even years.\n",
      "\n",
      "Not only that, but you’ve reached the point where even the thought of the goal, brings the feeling of having butterflies in your stomach. Demon butterflies.\n",
      "\n",
      "Hopefully, today is the day you will break the chain as well.\n",
      "\n",
      "Let me help you with that.\n",
      "\n",
      "In the beginning, when we set the goal, we feel usually motivated, for about a day. As each additional day passes, the resistance starts to grow.\n",
      "\n",
      "As more time passes by, we feel more overwhelmed, especially if we have attempted to start several times, and failed. It stacks up, but in a wrong direction.\n",
      "\n",
      "The biggest problem in this scenario is that we think of the sheer size of the goal, or to be more accurate, the list of the activities we need to do, and how much time it will take us to do them all.\n",
      "\n",
      "We think about the big picture.\n",
      "\n",
      "There is nothing wrong with the big picture, on the contrary, we need it, but in the beginning, when it’s the planning phase.\n",
      "\n",
      "Immediately once the plan is finished, you should leave the big picture aside and focus on the small one.\n",
      "\n",
      "To be specific, just one day ahead of you. Or, as I like to call it “A 24 Hour Life”(basically what smarter people before me said but rephrased with a cooler name, fancy, I know).\n",
      "\n",
      "That’s what you should do. Don’t think about the science or that you need 66 days to establish a habit, it will just overwhelm you additionally, which you don’t need.\n",
      "\n",
      "If necessary, sacrifice the quality, and the quantity, for the sake of consistency.\n",
      "\n",
      "Let’s get down to concrete steps you can take a right this moment to take action and start working on your goal.\n",
      "\n",
      "Look back at the previous period, and try to pinpoint the main reasons on why you procrastinated (be honest with yourself).\n",
      "\n",
      "These reasons are usually internal and external.\n",
      "\n",
      "What I mean by this is, the excuses you give yourself (it’s hard, you don’t know how to do it, etc), and the distractions in your environment (the internet, television, people, food, and other).\n",
      "\n",
      "You probably know them already, but it’s good to write them down, and remind yourself.\n",
      "\n",
      "2. Stop Beating On Yourself\n",
      "\n",
      "This is more theoretical, fluffy advice, but still, makes sense.\n",
      "\n",
      "Stop dragging the luggage of your past (in)actions. That’s the thing with us people; we like to beat ourselves, which additionally prevents us from taking actions.\n",
      "\n",
      "So, drop it, and focus on using the lessons from my previous point.\n",
      "\n",
      "Remember, think just 24 hours ahead (or 18/16 depending on how much you sleep) now when I think about it, the “24-hour life” is starting to lose its meaning, but it sounds cooler than “16 Hour Life.”)\n",
      "\n",
      "Anyways. The moment you forgive yourself, you will feel relieved, and slowly start to regain that original motivation, or motivation 2.0 whatever you want to call it.\n",
      "\n",
      "3. Re-evaluate Your Direction\n",
      "\n",
      "Now that the past is behind you, you should look forward and get clarity on your direction.\n",
      "\n",
      "Even if you still want to pursue the same goal, know that it often happens that we don’t stop and think whether or not what we are trying to achieve, actually still makes sense for us (similar to being in an unhealthy relationship just because you’ve invested too much time).\n",
      "\n",
      "This is your one shot, either drop the goal altogether or leave all the excuses behind.\n",
      "\n",
      "Think about your biggest goal, and see if you still want to pursue it.\n",
      "\n",
      "If you do, write it in one sentence, and put a deadline on it.\n",
      "\n",
      "If not, scratch it. And think of another big goal you want to focus in the upcoming year.\n",
      "\n",
      "Just one goal, not five or ten. Let’s not copy-paste new years resolutions, year in-year out.\n",
      "\n",
      "Once you have it, you need a strategy.\n",
      "\n",
      "In those 16 hours, your sole focus (when it comes to your goal), should beonly two things:\n",
      "\n",
      "Things you have to DO to achieve your goal (what are your most important activities that will bring most results?)\n",
      "\n",
      "Things you have to LEARN to execute the previously defined activities\n",
      "\n",
      "When you determine these two points, put them in the timeline, and then…\n",
      "\n",
      "To make sure that history doesn’t repeat itself, choose just one thing you will do today no matter how minor the activity is.\n",
      "\n",
      "Like slapping a muffin out of your hand (if you want to lose weight), or learning five new words in Spanish a couple of random examples here, but you get what I mean.\n",
      "\n",
      "I wrote this down earlier, but I will repeat it because it’s probably the most important thing you can remember from this article.\n",
      "\n",
      "If necessary, sacrifice the Quality, and the Quantity, for the sake of CONSISTENCY.\n",
      "\n",
      "Even though it’s simple, it’s not easy *.\n",
      "\n",
      "But, you only need to take one small step, without thinking too far ahead, and before you know it, you will reach your destination.\n",
      "\n",
      "Just like I did with this article. One word at the time, one bad joke at the time, and before you know it, I finished writing it, and you finished reading it.\n",
      "\n",
      "Just remember every once in a while to make a pause, and evaluate your path and plan, just to make sure you are still on the right track.\n"
     ]
    }
   ],
   "source": [
    "for line in lines:\n",
    "    if all([re.findall(vowel, line) for vowel in 'aeiou']):\n",
    "        print(line)"
   ]
  },
  {
   "cell_type": "markdown",
   "metadata": {
    "id": "AO7xrXWNr93C"
   },
   "source": [
    "... that has an 'a' and somewhere later an 'e'"
   ]
  },
  {
   "cell_type": "code",
   "execution_count": 16,
   "metadata": {
    "ExecuteTime": {
     "end_time": "2021-01-19T11:54:55.967918Z",
     "start_time": "2021-01-19T11:54:55.961183Z"
    },
    "id": "aOYz1508r93C"
   },
   "outputs": [
    {
     "name": "stdout",
     "output_type": "stream",
     "text": [
      "How To Start When You’ve Procrastinated On Your Goals For Too Long\n",
      "\n",
      "As you are reading this, you probably have a goal on your own, that you’ve pushed, postponed, procrastinated on, and other words that start with P, for days, weeks, months, or even years.\n",
      "\n",
      "Not only that, but you’ve reached the point where even the thought of the goal, brings the feeling of having butterflies in your stomach. Demon butterflies.\n",
      "\n",
      "Hopefully, today is the day you will break the chain as well.\n",
      "\n",
      "In the beginning, when we set the goal, we feel usually motivated, for about a day. As each additional day passes, the resistance starts to grow.\n",
      "\n",
      "As more time passes by, we feel more overwhelmed, especially if we have attempted to start several times, and failed. It stacks up, but in a wrong direction.\n",
      "\n",
      "The biggest problem in this scenario is that we think of the sheer size of the goal, or to be more accurate, the list of the activities we need to do, and how much time it will take us to do them all.\n",
      "\n",
      "We think about the big picture.\n",
      "\n",
      "There is nothing wrong with the big picture, on the contrary, we need it, but in the beginning, when it’s the planning phase.\n",
      "\n",
      "Immediately once the plan is finished, you should leave the big picture aside and focus on the small one.\n",
      "\n",
      "To be specific, just one day ahead of you. Or, as I like to call it “A 24 Hour Life”(basically what smarter people before me said but rephrased with a cooler name, fancy, I know).\n",
      "\n",
      "That’s what you should do. Don’t think about the science or that you need 66 days to establish a habit, it will just overwhelm you additionally, which you don’t need.\n",
      "\n",
      "If necessary, sacrifice the quality, and the quantity, for the sake of consistency.\n",
      "\n",
      "Let’s get down to concrete steps you can take a right this moment to take action and start working on your goal.\n",
      "\n",
      "1. Extract The Lessons\n",
      "\n",
      "Look back at the previous period, and try to pinpoint the main reasons on why you procrastinated (be honest with yourself).\n",
      "\n",
      "These reasons are usually internal and external.\n",
      "\n",
      "What I mean by this is, the excuses you give yourself (it’s hard, you don’t know how to do it, etc), and the distractions in your environment (the internet, television, people, food, and other).\n",
      "\n",
      "You probably know them already, but it’s good to write them down, and remind yourself.\n",
      "\n",
      "2. Stop Beating On Yourself\n",
      "\n",
      "This is more theoretical, fluffy advice, but still, makes sense.\n",
      "\n",
      "Stop dragging the luggage of your past (in)actions. That’s the thing with us people; we like to beat ourselves, which additionally prevents us from taking actions.\n",
      "\n",
      "So, drop it, and focus on using the lessons from my previous point.\n",
      "\n",
      "Remember, think just 24 hours ahead (or 18/16 depending on how much you sleep) now when I think about it, the “24-hour life” is starting to lose its meaning, but it sounds cooler than “16 Hour Life.”)\n",
      "\n",
      "Anyways. The moment you forgive yourself, you will feel relieved, and slowly start to regain that original motivation, or motivation 2.0 whatever you want to call it.\n",
      "\n",
      "3. Re-evaluate Your Direction\n",
      "\n",
      "Now that the past is behind you, you should look forward and get clarity on your direction.\n",
      "\n",
      "Even if you still want to pursue the same goal, know that it often happens that we don’t stop and think whether or not what we are trying to achieve, actually still makes sense for us (similar to being in an unhealthy relationship just because you’ve invested too much time).\n",
      "\n",
      "This is your one shot, either drop the goal altogether or leave all the excuses behind.\n",
      "\n",
      "Think about your biggest goal, and see if you still want to pursue it.\n",
      "\n",
      "If you do, write it in one sentence, and put a deadline on it.\n",
      "\n",
      "If not, scratch it. And think of another big goal you want to focus in the upcoming year.\n",
      "\n",
      "Just one goal, not five or ten. Let’s not copy-paste new years resolutions, year in-year out.\n",
      "\n",
      "Once you have it, you need a strategy.\n",
      "\n",
      "4. Make A New Plan\n",
      "\n",
      "In those 16 hours, your sole focus (when it comes to your goal), should beonly two things:\n",
      "\n",
      "Things you have to DO to achieve your goal (what are your most important activities that will bring most results?)\n",
      "\n",
      "Things you have to LEARN to execute the previously defined activities\n",
      "\n",
      "When you determine these two points, put them in the timeline, and then…\n",
      "\n",
      "To make sure that history doesn’t repeat itself, choose just one thing you will do today no matter how minor the activity is.\n",
      "\n",
      "Like slapping a muffin out of your hand (if you want to lose weight), or learning five new words in Spanish a couple of random examples here, but you get what I mean.\n",
      "\n",
      "I wrote this down earlier, but I will repeat it because it’s probably the most important thing you can remember from this article.\n",
      "\n",
      "If necessary, sacrifice the Quality, and the Quantity, for the sake of CONSISTENCY.\n",
      "\n",
      "But, you only need to take one small step, without thinking too far ahead, and before you know it, you will reach your destination.\n",
      "\n",
      "Just like I did with this article. One word at the time, one bad joke at the time, and before you know it, I finished writing it, and you finished reading it.\n",
      "\n",
      "Just remember every once in a while to make a pause, and evaluate your path and plan, just to make sure you are still on the right track.\n"
     ]
    }
   ],
   "source": [
    "for line in lines:\n",
    "    if re.findall('a.*e', line):\n",
    "        print(line)"
   ]
  },
  {
   "cell_type": "markdown",
   "metadata": {
    "id": "IUfJti9jr93C"
   },
   "source": [
    "... that does not have an 'i'"
   ]
  },
  {
   "cell_type": "code",
   "execution_count": 17,
   "metadata": {
    "ExecuteTime": {
     "end_time": "2021-01-19T11:54:56.594564Z",
     "start_time": "2021-01-19T11:54:56.586643Z"
    },
    "id": "srqcDIrdr93C"
   },
   "outputs": [
    {
     "name": "stdout",
     "output_type": "stream",
     "text": [
      "\n",
      "\n",
      "\n",
      "\n",
      "\n",
      "\n",
      "\n",
      "\n",
      "\n",
      "\n",
      "\n",
      "\n",
      "\n",
      "\n",
      "\n",
      "\n",
      "\n",
      "\n",
      "\n",
      "\n",
      "\n",
      "\n",
      "\n",
      "\n",
      "\n",
      "\n",
      "\n",
      "\n",
      "\n",
      "\n",
      "1. Extract The Lessons\n",
      "\n",
      "*******************************\n",
      "\n",
      "\n",
      "\n",
      "\n",
      "\n",
      "\n",
      "\n",
      "\n",
      "\n",
      "\n",
      "\n",
      "\n",
      "\n",
      "\n",
      "\n",
      "\n",
      "\n",
      "\n",
      "\n",
      "\n",
      "\n",
      "\n",
      "\n",
      "\n",
      "\n",
      "\n",
      "\n",
      "\n",
      "\n",
      "\n",
      "\n",
      "\n",
      "\n",
      "\n",
      "\n",
      "4. Make A New Plan\n",
      "\n",
      "\n",
      "\n",
      "\n",
      "\n",
      "5. … Act\n",
      "\n",
      "\n",
      "\n",
      "\n",
      "\n",
      "\n",
      "\n",
      "\n",
      "\n",
      "\n",
      "\n",
      "\n",
      "\n"
     ]
    }
   ],
   "source": [
    "for line in lines:\n",
    "    if not re.findall('[?!i]',line):\n",
    "        print(line)"
   ]
  },
  {
   "cell_type": "markdown",
   "metadata": {
    "id": "AoChIH1Er93C"
   },
   "source": [
    "... that does not have an 'i' nor 'z'"
   ]
  },
  {
   "cell_type": "code",
   "execution_count": 18,
   "metadata": {
    "ExecuteTime": {
     "end_time": "2021-01-19T11:54:57.426561Z",
     "start_time": "2021-01-19T11:54:57.420699Z"
    },
    "id": "RFoYw8_jr93C"
   },
   "outputs": [
    {
     "name": "stdout",
     "output_type": "stream",
     "text": [
      "\n",
      "\n",
      "\n",
      "\n",
      "\n",
      "\n",
      "\n",
      "\n",
      "\n",
      "\n",
      "\n",
      "\n",
      "\n",
      "\n",
      "\n",
      "\n",
      "\n",
      "\n",
      "\n",
      "\n",
      "\n",
      "\n",
      "\n",
      "\n",
      "\n",
      "\n",
      "\n",
      "\n",
      "\n",
      "\n",
      "1. Extract The Lessons\n",
      "\n",
      "*******************************\n",
      "\n",
      "\n",
      "\n",
      "\n",
      "\n",
      "\n",
      "\n",
      "\n",
      "\n",
      "\n",
      "\n",
      "\n",
      "\n",
      "\n",
      "\n",
      "\n",
      "\n",
      "\n",
      "\n",
      "\n",
      "\n",
      "\n",
      "\n",
      "\n",
      "\n",
      "\n",
      "\n",
      "\n",
      "\n",
      "\n",
      "\n",
      "\n",
      "\n",
      "\n",
      "\n",
      "4. Make A New Plan\n",
      "\n",
      "\n",
      "\n",
      "\n",
      "\n",
      "5. … Act\n",
      "\n",
      "\n",
      "\n",
      "\n",
      "\n",
      "\n",
      "\n",
      "\n",
      "\n",
      "\n",
      "\n",
      "\n",
      "\n"
     ]
    }
   ],
   "source": [
    "for line in lines:\n",
    "    if not re.findall('[?!iz]',line):\n",
    "        print(line)"
   ]
  },
  {
   "cell_type": "markdown",
   "metadata": {
    "id": "kq_Qk8WGr93C"
   },
   "source": [
    "... that has an 'x' but not 'y'"
   ]
  },
  {
   "cell_type": "code",
   "execution_count": 19,
   "metadata": {
    "ExecuteTime": {
     "end_time": "2021-01-19T11:54:58.161132Z",
     "start_time": "2021-01-19T11:54:58.154679Z"
    },
    "id": "MRsOP5RCr93D"
   },
   "outputs": [
    {
     "name": "stdout",
     "output_type": "stream",
     "text": [
      "First, the explanation.\n",
      "\n",
      "1. Extract The Lessons\n",
      "\n"
     ]
    }
   ],
   "source": [
    "for line in lines:\n",
    "    if re.findall('(?!.*y)^.*x',line):\n",
    "        print(line)"
   ]
  },
  {
   "cell_type": "markdown",
   "metadata": {
    "id": "bS7dpwY_r93D"
   },
   "source": [
    "... that has at least 2 consecutive vowels (a, e, i, o, u) like in the word \"bear\""
   ]
  },
  {
   "cell_type": "code",
   "execution_count": 20,
   "metadata": {
    "ExecuteTime": {
     "end_time": "2021-01-19T11:54:58.846756Z",
     "start_time": "2021-01-19T11:54:58.837176Z"
    },
    "id": "Q-jjr-cCr93D"
   },
   "outputs": [
    {
     "name": "stdout",
     "output_type": "stream",
     "text": [
      "How To Start When You’ve Procrastinated On Your Goals For Too Long\n",
      "\n",
      "As you are reading this, you probably have a goal on your own, that you’ve pushed, postponed, procrastinated on, and other words that start with P, for days, weeks, months, or even years.\n",
      "\n",
      "Not only that, but you’ve reached the point where even the thought of the goal, brings the feeling of having butterflies in your stomach. Demon butterflies.\n",
      "\n",
      "Hopefully, today is the day you will break the chain as well.\n",
      "\n",
      "Let me help you with that.\n",
      "\n",
      "First, the explanation.\n",
      "\n",
      "In the beginning, when we set the goal, we feel usually motivated, for about a day. As each additional day passes, the resistance starts to grow.\n",
      "\n",
      "As more time passes by, we feel more overwhelmed, especially if we have attempted to start several times, and failed. It stacks up, but in a wrong direction.\n",
      "\n",
      "The biggest problem in this scenario is that we think of the sheer size of the goal, or to be more accurate, the list of the activities we need to do, and how much time it will take us to do them all.\n",
      "\n",
      "We think about the big picture.\n",
      "\n",
      "There is nothing wrong with the big picture, on the contrary, we need it, but in the beginning, when it’s the planning phase.\n",
      "\n",
      "Immediately once the plan is finished, you should leave the big picture aside and focus on the small one.\n",
      "\n",
      "To be specific, just one day ahead of you. Or, as I like to call it “A 24 Hour Life”(basically what smarter people before me said but rephrased with a cooler name, fancy, I know).\n",
      "\n",
      "That’s what you should do. Don’t think about the science or that you need 66 days to establish a habit, it will just overwhelm you additionally, which you don’t need.\n",
      "\n",
      "Next, to the “ONE DAY” principle, the only other one you need is the consistency.\n",
      "\n",
      "If necessary, sacrifice the quality, and the quantity, for the sake of consistency.\n",
      "\n",
      "Let’s get down to concrete steps you can take a right this moment to take action and start working on your goal.\n",
      "\n",
      "Look back at the previous period, and try to pinpoint the main reasons on why you procrastinated (be honest with yourself).\n",
      "\n",
      "These reasons are usually internal and external.\n",
      "\n",
      "What I mean by this is, the excuses you give yourself (it’s hard, you don’t know how to do it, etc), and the distractions in your environment (the internet, television, people, food, and other).\n",
      "\n",
      "You probably know them already, but it’s good to write them down, and remind yourself.\n",
      "\n",
      "2. Stop Beating On Yourself\n",
      "\n",
      "This is more theoretical, fluffy advice, but still, makes sense.\n",
      "\n",
      "Stop dragging the luggage of your past (in)actions. That’s the thing with us people; we like to beat ourselves, which additionally prevents us from taking actions.\n",
      "\n",
      "So, drop it, and focus on using the lessons from my previous point.\n",
      "\n",
      "Remember, think just 24 hours ahead (or 18/16 depending on how much you sleep) now when I think about it, the “24-hour life” is starting to lose its meaning, but it sounds cooler than “16 Hour Life.”)\n",
      "\n",
      "Anyways. The moment you forgive yourself, you will feel relieved, and slowly start to regain that original motivation, or motivation 2.0 whatever you want to call it.\n",
      "\n",
      "3. Re-evaluate Your Direction\n",
      "\n",
      "Now that the past is behind you, you should look forward and get clarity on your direction.\n",
      "\n",
      "Even if you still want to pursue the same goal, know that it often happens that we don’t stop and think whether or not what we are trying to achieve, actually still makes sense for us (similar to being in an unhealthy relationship just because you’ve invested too much time).\n",
      "\n",
      "This is your one shot, either drop the goal altogether or leave all the excuses behind.\n",
      "\n",
      "Think about your biggest goal, and see if you still want to pursue it.\n",
      "\n",
      "If you do, write it in one sentence, and put a deadline on it.\n",
      "\n",
      "If not, scratch it. And think of another big goal you want to focus in the upcoming year.\n",
      "\n",
      "Just one goal, not five or ten. Let’s not copy-paste new years resolutions, year in-year out.\n",
      "\n",
      "Once you have it, you need a strategy.\n",
      "\n",
      "In those 16 hours, your sole focus (when it comes to your goal), should beonly two things:\n",
      "\n",
      "Things you have to DO to achieve your goal (what are your most important activities that will bring most results?)\n",
      "\n",
      "Things you have to LEARN to execute the previously defined activities\n",
      "\n",
      "When you determine these two points, put them in the timeline, and then…\n",
      "\n",
      "To make sure that history doesn’t repeat itself, choose just one thing you will do today no matter how minor the activity is.\n",
      "\n",
      "Like slapping a muffin out of your hand (if you want to lose weight), or learning five new words in Spanish a couple of random examples here, but you get what I mean.\n",
      "\n",
      "I wrote this down earlier, but I will repeat it because it’s probably the most important thing you can remember from this article.\n",
      "\n",
      "If necessary, sacrifice the Quality, and the Quantity, for the sake of CONSISTENCY.\n",
      "\n",
      "Even though it’s simple, it’s not easy *.\n",
      "\n",
      "But, you only need to take one small step, without thinking too far ahead, and before you know it, you will reach your destination.\n",
      "\n",
      "Just like I did with this article. One word at the time, one bad joke at the time, and before you know it, I finished writing it, and you finished reading it.\n",
      "\n",
      "Now, go get it I believe in you!\n",
      "\n",
      "Just remember every once in a while to make a pause, and evaluate your path and plan, just to make sure you are still on the right track.\n"
     ]
    }
   ],
   "source": [
    "for line in lines:\n",
    "    if re.findall('[aeiou]{2,}',line):\n",
    "        print(line)"
   ]
  },
  {
   "cell_type": "markdown",
   "metadata": {
    "id": "1Xsi7u1yr93D"
   },
   "source": [
    "... that has at least 3 vowels"
   ]
  },
  {
   "cell_type": "code",
   "execution_count": 21,
   "metadata": {
    "ExecuteTime": {
     "end_time": "2021-01-19T11:54:59.778205Z",
     "start_time": "2021-01-19T11:54:59.768893Z"
    },
    "id": "V2DE_Et3r93D"
   },
   "outputs": [
    {
     "name": "stdout",
     "output_type": "stream",
     "text": [
      "How To Start When You’ve Procrastinated On Your Goals For Too Long\n",
      "\n",
      "As you are reading this, you probably have a goal on your own, that you’ve pushed, postponed, procrastinated on, and other words that start with P, for days, weeks, months, or even years.\n",
      "\n",
      "Not only that, but you’ve reached the point where even the thought of the goal, brings the feeling of having butterflies in your stomach. Demon butterflies.\n",
      "\n",
      "Hopefully, today is the day you will break the chain as well.\n",
      "\n",
      "Let me help you with that.\n",
      "\n",
      "First, the explanation.\n",
      "\n",
      "In the beginning, when we set the goal, we feel usually motivated, for about a day. As each additional day passes, the resistance starts to grow.\n",
      "\n",
      "As more time passes by, we feel more overwhelmed, especially if we have attempted to start several times, and failed. It stacks up, but in a wrong direction.\n",
      "\n",
      "The biggest problem in this scenario is that we think of the sheer size of the goal, or to be more accurate, the list of the activities we need to do, and how much time it will take us to do them all.\n",
      "\n",
      "We think about the big picture.\n",
      "\n",
      "There is nothing wrong with the big picture, on the contrary, we need it, but in the beginning, when it’s the planning phase.\n",
      "\n",
      "Immediately once the plan is finished, you should leave the big picture aside and focus on the small one.\n",
      "\n",
      "To be specific, just one day ahead of you. Or, as I like to call it “A 24 Hour Life”(basically what smarter people before me said but rephrased with a cooler name, fancy, I know).\n",
      "\n",
      "That’s what you should do. Don’t think about the science or that you need 66 days to establish a habit, it will just overwhelm you additionally, which you don’t need.\n",
      "\n",
      "Next, to the “ONE DAY” principle, the only other one you need is the consistency.\n",
      "\n",
      "If necessary, sacrifice the quality, and the quantity, for the sake of consistency.\n",
      "\n",
      "Let’s get down to concrete steps you can take a right this moment to take action and start working on your goal.\n",
      "\n",
      "1. Extract The Lessons\n",
      "\n",
      "Look back at the previous period, and try to pinpoint the main reasons on why you procrastinated (be honest with yourself).\n",
      "\n",
      "These reasons are usually internal and external.\n",
      "\n",
      "What I mean by this is, the excuses you give yourself (it’s hard, you don’t know how to do it, etc), and the distractions in your environment (the internet, television, people, food, and other).\n",
      "\n",
      "You probably know them already, but it’s good to write them down, and remind yourself.\n",
      "\n",
      "2. Stop Beating On Yourself\n",
      "\n",
      "This is more theoretical, fluffy advice, but still, makes sense.\n",
      "\n",
      "Stop dragging the luggage of your past (in)actions. That’s the thing with us people; we like to beat ourselves, which additionally prevents us from taking actions.\n",
      "\n",
      "So, drop it, and focus on using the lessons from my previous point.\n",
      "\n",
      "Remember, think just 24 hours ahead (or 18/16 depending on how much you sleep) now when I think about it, the “24-hour life” is starting to lose its meaning, but it sounds cooler than “16 Hour Life.”)\n",
      "\n",
      "Anyways. The moment you forgive yourself, you will feel relieved, and slowly start to regain that original motivation, or motivation 2.0 whatever you want to call it.\n",
      "\n",
      "3. Re-evaluate Your Direction\n",
      "\n",
      "Now that the past is behind you, you should look forward and get clarity on your direction.\n",
      "\n",
      "Even if you still want to pursue the same goal, know that it often happens that we don’t stop and think whether or not what we are trying to achieve, actually still makes sense for us (similar to being in an unhealthy relationship just because you’ve invested too much time).\n",
      "\n",
      "This is your one shot, either drop the goal altogether or leave all the excuses behind.\n",
      "\n",
      "Think about your biggest goal, and see if you still want to pursue it.\n",
      "\n",
      "If you do, write it in one sentence, and put a deadline on it.\n",
      "\n",
      "If not, scratch it. And think of another big goal you want to focus in the upcoming year.\n",
      "\n",
      "Just one goal, not five or ten. Let’s not copy-paste new years resolutions, year in-year out.\n",
      "\n",
      "Once you have it, you need a strategy.\n",
      "\n",
      "4. Make A New Plan\n",
      "\n",
      "In those 16 hours, your sole focus (when it comes to your goal), should beonly two things:\n",
      "\n",
      "Things you have to DO to achieve your goal (what are your most important activities that will bring most results?)\n",
      "\n",
      "Things you have to LEARN to execute the previously defined activities\n",
      "\n",
      "When you determine these two points, put them in the timeline, and then…\n",
      "\n",
      "To make sure that history doesn’t repeat itself, choose just one thing you will do today no matter how minor the activity is.\n",
      "\n",
      "Like slapping a muffin out of your hand (if you want to lose weight), or learning five new words in Spanish a couple of random examples here, but you get what I mean.\n",
      "\n",
      "I wrote this down earlier, but I will repeat it because it’s probably the most important thing you can remember from this article.\n",
      "\n",
      "If necessary, sacrifice the Quality, and the Quantity, for the sake of CONSISTENCY.\n",
      "\n",
      "Final Words\n",
      "\n",
      "Even though it’s simple, it’s not easy *.\n",
      "\n",
      "But, you only need to take one small step, without thinking too far ahead, and before you know it, you will reach your destination.\n",
      "\n",
      "Just like I did with this article. One word at the time, one bad joke at the time, and before you know it, I finished writing it, and you finished reading it.\n",
      "\n",
      "Now, go get it I believe in you!\n",
      "\n",
      "Just remember every once in a while to make a pause, and evaluate your path and plan, just to make sure you are still on the right track.\n"
     ]
    }
   ],
   "source": [
    "for line in lines:\n",
    "    if re.findall('(.*[aeiou]){3,}',line):\n",
    "        print(line)"
   ]
  },
  {
   "cell_type": "markdown",
   "metadata": {
    "id": "y78FoKxOr93D"
   },
   "source": [
    "... that has at least 30 characters"
   ]
  },
  {
   "cell_type": "code",
   "execution_count": 22,
   "metadata": {
    "ExecuteTime": {
     "end_time": "2021-01-19T11:55:00.623050Z",
     "start_time": "2021-01-19T11:55:00.616732Z"
    },
    "id": "1Mprr5onr93D"
   },
   "outputs": [
    {
     "name": "stdout",
     "output_type": "stream",
     "text": [
      "How To Start When You’ve Procrastinated On Your Goals For Too Long\n",
      "\n",
      "As you are reading this, you probably have a goal on your own, that you’ve pushed, postponed, procrastinated on, and other words that start with P, for days, weeks, months, or even years.\n",
      "\n",
      "Not only that, but you’ve reached the point where even the thought of the goal, brings the feeling of having butterflies in your stomach. Demon butterflies.\n",
      "\n",
      "Hopefully, today is the day you will break the chain as well.\n",
      "\n",
      "In the beginning, when we set the goal, we feel usually motivated, for about a day. As each additional day passes, the resistance starts to grow.\n",
      "\n",
      "As more time passes by, we feel more overwhelmed, especially if we have attempted to start several times, and failed. It stacks up, but in a wrong direction.\n",
      "\n",
      "The biggest problem in this scenario is that we think of the sheer size of the goal, or to be more accurate, the list of the activities we need to do, and how much time it will take us to do them all.\n",
      "\n",
      "We think about the big picture.\n",
      "\n",
      "There is nothing wrong with the big picture, on the contrary, we need it, but in the beginning, when it’s the planning phase.\n",
      "\n",
      "Immediately once the plan is finished, you should leave the big picture aside and focus on the small one.\n",
      "\n",
      "To be specific, just one day ahead of you. Or, as I like to call it “A 24 Hour Life”(basically what smarter people before me said but rephrased with a cooler name, fancy, I know).\n",
      "\n",
      "That’s what you should do. Don’t think about the science or that you need 66 days to establish a habit, it will just overwhelm you additionally, which you don’t need.\n",
      "\n",
      "Next, to the “ONE DAY” principle, the only other one you need is the consistency.\n",
      "\n",
      "If necessary, sacrifice the quality, and the quantity, for the sake of consistency.\n",
      "\n",
      "Let’s get down to concrete steps you can take a right this moment to take action and start working on your goal.\n",
      "\n",
      "*******************************\n",
      "\n",
      "Look back at the previous period, and try to pinpoint the main reasons on why you procrastinated (be honest with yourself).\n",
      "\n",
      "These reasons are usually internal and external.\n",
      "\n",
      "What I mean by this is, the excuses you give yourself (it’s hard, you don’t know how to do it, etc), and the distractions in your environment (the internet, television, people, food, and other).\n",
      "\n",
      "You probably know them already, but it’s good to write them down, and remind yourself.\n",
      "\n",
      "This is more theoretical, fluffy advice, but still, makes sense.\n",
      "\n",
      "Stop dragging the luggage of your past (in)actions. That’s the thing with us people; we like to beat ourselves, which additionally prevents us from taking actions.\n",
      "\n",
      "So, drop it, and focus on using the lessons from my previous point.\n",
      "\n",
      "Remember, think just 24 hours ahead (or 18/16 depending on how much you sleep) now when I think about it, the “24-hour life” is starting to lose its meaning, but it sounds cooler than “16 Hour Life.”)\n",
      "\n",
      "Anyways. The moment you forgive yourself, you will feel relieved, and slowly start to regain that original motivation, or motivation 2.0 whatever you want to call it.\n",
      "\n",
      "Now that the past is behind you, you should look forward and get clarity on your direction.\n",
      "\n",
      "Even if you still want to pursue the same goal, know that it often happens that we don’t stop and think whether or not what we are trying to achieve, actually still makes sense for us (similar to being in an unhealthy relationship just because you’ve invested too much time).\n",
      "\n",
      "This is your one shot, either drop the goal altogether or leave all the excuses behind.\n",
      "\n",
      "Think about your biggest goal, and see if you still want to pursue it.\n",
      "\n",
      "If you do, write it in one sentence, and put a deadline on it.\n",
      "\n",
      "If not, scratch it. And think of another big goal you want to focus in the upcoming year.\n",
      "\n",
      "Just one goal, not five or ten. Let’s not copy-paste new years resolutions, year in-year out.\n",
      "\n",
      "Once you have it, you need a strategy.\n",
      "\n",
      "In those 16 hours, your sole focus (when it comes to your goal), should beonly two things:\n",
      "\n",
      "Things you have to DO to achieve your goal (what are your most important activities that will bring most results?)\n",
      "\n",
      "Things you have to LEARN to execute the previously defined activities\n",
      "\n",
      "When you determine these two points, put them in the timeline, and then…\n",
      "\n",
      "To make sure that history doesn’t repeat itself, choose just one thing you will do today no matter how minor the activity is.\n",
      "\n",
      "Like slapping a muffin out of your hand (if you want to lose weight), or learning five new words in Spanish a couple of random examples here, but you get what I mean.\n",
      "\n",
      "I wrote this down earlier, but I will repeat it because it’s probably the most important thing you can remember from this article.\n",
      "\n",
      "If necessary, sacrifice the Quality, and the Quantity, for the sake of CONSISTENCY.\n",
      "\n",
      "Even though it’s simple, it’s not easy *.\n",
      "\n",
      "But, you only need to take one small step, without thinking too far ahead, and before you know it, you will reach your destination.\n",
      "\n",
      "Just like I did with this article. One word at the time, one bad joke at the time, and before you know it, I finished writing it, and you finished reading it.\n",
      "\n",
      "Now, go get it I believe in you!\n",
      "\n",
      "Just remember every once in a while to make a pause, and evaluate your path and plan, just to make sure you are still on the right track.\n"
     ]
    }
   ],
   "source": [
    "for line in lines:\n",
    "    if re.findall('.{30,}',line):\n",
    "        print(line)"
   ]
  },
  {
   "cell_type": "markdown",
   "metadata": {
    "id": "_Hlb7mGyr93E"
   },
   "source": [
    "... has the same word appear twice in the same line"
   ]
  },
  {
   "cell_type": "code",
   "execution_count": 31,
   "metadata": {
    "ExecuteTime": {
     "end_time": "2021-01-19T11:55:11.373865Z",
     "start_time": "2021-01-19T11:55:11.369075Z"
    },
    "id": "-Vtt7c9mr93E"
   },
   "outputs": [],
   "source": [
    "#??"
   ]
  },
  {
   "cell_type": "markdown",
   "metadata": {
    "id": "I_PwQcKrr93E"
   },
   "source": [
    "## Print all the words"
   ]
  },
  {
   "cell_type": "markdown",
   "metadata": {
    "id": "Y6QelVgir93E"
   },
   "source": [
    "Words with either 'Bar' or 'Baz' in them"
   ]
  },
  {
   "cell_type": "code",
   "execution_count": 24,
   "metadata": {
    "ExecuteTime": {
     "end_time": "2021-01-19T11:55:29.969792Z",
     "start_time": "2021-01-19T11:55:29.962226Z"
    },
    "id": "HjqXlg6kr93E"
   },
   "outputs": [],
   "source": [
    "for line in lines:\n",
    "    for word in re.findall('\\s*(\\w*Ba[rz]\\w*)\\s*', line):\n",
    "        print(word)"
   ]
  },
  {
   "cell_type": "markdown",
   "metadata": {
    "id": "cRLxl44pr93E"
   },
   "source": [
    "Words with either 'Whe' or 'The' in them"
   ]
  },
  {
   "cell_type": "code",
   "execution_count": 25,
   "metadata": {
    "ExecuteTime": {
     "end_time": "2021-01-19T11:55:31.618599Z",
     "start_time": "2021-01-19T11:55:31.601206Z"
    },
    "id": "f7BFmqkhr93E"
   },
   "outputs": [
    {
     "name": "stdout",
     "output_type": "stream",
     "text": [
      "When\n",
      "The\n",
      "There\n",
      "The\n",
      "These\n",
      "The\n",
      "When\n"
     ]
    }
   ],
   "source": [
    "for line in lines:\n",
    "    for word in re.findall('\\s*(\\w*Whe\\w*|The\\w*)\\s*', line):\n",
    "        print(word)"
   ]
  },
  {
   "cell_type": "markdown",
   "metadata": {
    "id": "IE7ksrzKr93E"
   },
   "source": [
    "Words containing a double character (e.g. 'oo')"
   ]
  },
  {
   "cell_type": "code",
   "execution_count": 26,
   "metadata": {
    "ExecuteTime": {
     "end_time": "2021-01-19T11:56:23.804175Z",
     "start_time": "2021-01-19T11:56:23.788989Z"
    },
    "id": "gqc9MD5Nr93F"
   },
   "outputs": [
    {
     "name": "stdout",
     "output_type": "stream",
     "text": [
      "Too\n",
      "cooler\n",
      "Look\n",
      "food\n",
      "good\n",
      "cooler\n",
      "look\n",
      "too\n",
      "choose\n",
      "too\n"
     ]
    }
   ],
   "source": [
    "for line in lines:\n",
    "    for word in re.findall('\\s*(\\w*oo\\w*)',line):\n",
    "        print(word)"
   ]
  },
  {
   "cell_type": "markdown",
   "metadata": {
    "id": "4LT1QLnlr93F"
   },
   "source": [
    "## Cleanup string codes so they contain only numbers\n",
    "* Remove slash and spaces"
   ]
  },
  {
   "cell_type": "code",
   "execution_count": 27,
   "metadata": {
    "ExecuteTime": {
     "end_time": "2021-01-19T11:56:28.341556Z",
     "start_time": "2021-01-19T11:56:28.338026Z"
    },
    "id": "I1oRhzuDr93F"
   },
   "outputs": [],
   "source": [
    "codes = ['2373/ 8293', \n",
    "         ' 8292342 / 8263', \n",
    "         '12/903820 ',\n",
    "         '8203184 / 02342 ']\n",
    "\n",
    "#"
   ]
  },
  {
   "cell_type": "code",
   "execution_count": 28,
   "metadata": {
    "ExecuteTime": {
     "end_time": "2021-01-19T11:56:28.666012Z",
     "start_time": "2021-01-19T11:56:28.656758Z"
    },
    "id": "xkMLOyEcr93F"
   },
   "outputs": [
    {
     "data": {
      "text/plain": [
       "['23738293', '82923428263', '12903820', '820318402342']"
      ]
     },
     "execution_count": 28,
     "metadata": {},
     "output_type": "execute_result"
    }
   ],
   "source": [
    "[re.sub('[/ ]','', code) for code in codes]"
   ]
  },
  {
   "cell_type": "markdown",
   "metadata": {
    "id": "gB4kgjiNr93F"
   },
   "source": [
    "## Switch order of the numbers in string\n",
    "* Preserve slash /\n",
    "* Remove spaces"
   ]
  },
  {
   "cell_type": "code",
   "execution_count": 29,
   "metadata": {
    "ExecuteTime": {
     "end_time": "2021-01-19T11:56:30.158436Z",
     "start_time": "2021-01-19T11:56:30.153541Z"
    },
    "id": "2a7P6sgbr93F"
   },
   "outputs": [],
   "source": [
    "codes = ['2373/ 8293', \n",
    "         ' 8292342 / 8263', \n",
    "         '12/903820 ',\n",
    "         '8203184 / 02342 ']\n",
    "\n"
   ]
  },
  {
   "cell_type": "code",
   "execution_count": 30,
   "metadata": {
    "ExecuteTime": {
     "end_time": "2021-01-19T11:56:30.463514Z",
     "start_time": "2021-01-19T11:56:30.451725Z"
    },
    "id": "r5mBUo04r93F"
   },
   "outputs": [
    {
     "data": {
      "text/plain": [
       "['3928/3732', '3628/2432928', '028309/21', '24320/4813028']"
      ]
     },
     "execution_count": 30,
     "metadata": {},
     "output_type": "execute_result"
    }
   ],
   "source": [
    "[re.sub('[ ]','', code)[::-1] for code in codes]"
   ]
  },
  {
   "cell_type": "code",
   "execution_count": null,
   "metadata": {
    "id": "BZWADclxr93G"
   },
   "outputs": [],
   "source": []
  }
 ],
 "metadata": {
  "colab": {
   "name": "Copy_Regex.ipynb",
   "provenance": []
  },
  "kernelspec": {
   "display_name": "Python 3 (ipykernel)",
   "language": "python",
   "name": "python3"
  },
  "language_info": {
   "codemirror_mode": {
    "name": "ipython",
    "version": 3
   },
   "file_extension": ".py",
   "mimetype": "text/x-python",
   "name": "python",
   "nbconvert_exporter": "python",
   "pygments_lexer": "ipython3",
   "version": "3.9.12"
  },
  "toc": {
   "base_numbering": 1,
   "nav_menu": {},
   "number_sections": true,
   "sideBar": true,
   "skip_h1_title": false,
   "title_cell": "Table of Contents",
   "title_sidebar": "Contents",
   "toc_cell": false,
   "toc_position": {},
   "toc_section_display": true,
   "toc_window_display": false
  },
  "varInspector": {
   "cols": {
    "lenName": 16,
    "lenType": 16,
    "lenVar": 40
   },
   "kernels_config": {
    "python": {
     "delete_cmd_postfix": "",
     "delete_cmd_prefix": "del ",
     "library": "var_list.py",
     "varRefreshCmd": "print(var_dic_list())"
    },
    "r": {
     "delete_cmd_postfix": ") ",
     "delete_cmd_prefix": "rm(",
     "library": "var_list.r",
     "varRefreshCmd": "cat(var_dic_list()) "
    }
   },
   "types_to_exclude": [
    "module",
    "function",
    "builtin_function_or_method",
    "instance",
    "_Feature"
   ],
   "window_display": false
  }
 },
 "nbformat": 4,
 "nbformat_minor": 1
}
